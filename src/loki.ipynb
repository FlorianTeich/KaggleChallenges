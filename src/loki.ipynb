{
 "cells": [
  {
   "cell_type": "code",
   "execution_count": 1,
   "metadata": {},
   "outputs": [
    {
     "name": "stdout",
     "output_type": "stream",
     "text": [
      "Collecting python-logging-loki\n",
      "  Downloading python_logging_loki-0.3.1-py3-none-any.whl (7.0 kB)\n",
      "Collecting rfc3339>=6.1\n",
      "  Downloading rfc3339-6.2-py3-none-any.whl (5.5 kB)\n",
      "Requirement already satisfied: requests in /home/florian/anaconda3/lib/python3.9/site-packages (from python-logging-loki) (2.26.0)\n",
      "Requirement already satisfied: idna<4,>=2.5 in /home/florian/anaconda3/lib/python3.9/site-packages (from requests->python-logging-loki) (3.2)\n",
      "Requirement already satisfied: certifi>=2017.4.17 in /home/florian/anaconda3/lib/python3.9/site-packages (from requests->python-logging-loki) (2021.10.8)\n",
      "Requirement already satisfied: charset-normalizer~=2.0.0 in /home/florian/anaconda3/lib/python3.9/site-packages (from requests->python-logging-loki) (2.0.4)\n",
      "Requirement already satisfied: urllib3<1.27,>=1.21.1 in /home/florian/anaconda3/lib/python3.9/site-packages (from requests->python-logging-loki) (1.26.7)\n",
      "Installing collected packages: rfc3339, python-logging-loki\n",
      "Successfully installed python-logging-loki-0.3.1 rfc3339-6.2\n"
     ]
    }
   ],
   "source": [
    "!pip install python-logging-loki"
   ]
  },
  {
   "cell_type": "code",
   "execution_count": 3,
   "metadata": {},
   "outputs": [],
   "source": [
    "import logging\n",
    "import logging_loki\n",
    "logging_loki.emitter.LokiEmitter.level_tag = \"level\"\n",
    "# assign to a variable named handler \n",
    "handler = logging_loki.LokiHandler(\n",
    "   url=\"http://localhost:3100/loki/api/v1/push\",\n",
    "   version=\"1\",\n",
    ")\n",
    "# create a new logger instance, name it whatever you want\n",
    "logger = logging.getLogger(\"my-logger\")\n",
    "\n",
    "logger.addHandler(handler)\n",
    "\n",
    "# now use the logging object's functions as you normally would\n",
    "logger.error(\n",
    "   \"Something bad happened\",\n",
    "  \n",
    "   extra={\"tags\": {\"service\": \"my-service\"}},\n",
    ")\n",
    "logger.warning(\n",
    "   \"Something bad happened but we can keep going\",\n",
    "   extra={\"tags\": {\"service\": \"my-service\"}},\n",
    ")\n",
    "# extra={\"tags\": {\"service\": \"my-service\", \"one\": \"more thing\"}}"
   ]
  }
 ],
 "metadata": {
  "kernelspec": {
   "display_name": "base",
   "language": "python",
   "name": "python3"
  },
  "language_info": {
   "codemirror_mode": {
    "name": "ipython",
    "version": 3
   },
   "file_extension": ".py",
   "mimetype": "text/x-python",
   "name": "python",
   "nbconvert_exporter": "python",
   "pygments_lexer": "ipython3",
   "version": "3.9.7"
  },
  "orig_nbformat": 4
 },
 "nbformat": 4,
 "nbformat_minor": 2
}

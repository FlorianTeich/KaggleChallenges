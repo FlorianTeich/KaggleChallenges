{
 "cells": [
  {
   "cell_type": "code",
   "execution_count": null,
   "metadata": {},
   "outputs": [],
   "source": [
    "import pandas as pd\n",
    "import seaborn as sns\n",
    "import os\n",
    "from sktime.forecasting.base import ForecastingHorizon\n",
    "from sklearn.neighbors import KNeighborsRegressor\n",
    "from sktime.utils.plotting import plot_series\n",
    "from sktime.datasets import load_airline\n",
    "import matplotlib.pyplot as plt\n",
    "import matplotlib as mpl\n",
    "from sktime.forecasting.model_selection import (\n",
    "    temporal_train_test_split,\n",
    ")\n",
    "from sktime.forecasting.compose import (\n",
    "    EnsembleForecaster,\n",
    "    make_reduction,\n",
    ")\n",
    "from sktime.forecasting.exp_smoothing import ExponentialSmoothing\n",
    "from sktime.forecasting.model_evaluation import evaluate\n",
    "from tqdm import tqdm\n",
    "import glob\n",
    "from pyspark.sql import SparkSession\n",
    "\n",
    "mpl.use('TkAgg')\n",
    "%matplotlib inline"
   ]
  },
  {
   "cell_type": "code",
   "execution_count": null,
   "metadata": {},
   "outputs": [],
   "source": [
    "import kcu\n",
    "\n",
    "kcu.dataset.SandP500.get_dataset()"
   ]
  },
  {
   "cell_type": "code",
   "execution_count": null,
   "metadata": {
    "pycharm": {
     "name": "#%%\n"
    }
   },
   "outputs": [],
   "source": [
    "# Lets read the data\n",
    "\n",
    "cwdir = os.getcwd()\n",
    "# Get list of all stocks:\n",
    "files = glob.glob(cwdir + \"/../../data/sandp500/individual_stocks_5yr/individual_stocks_5yr/*.csv\")\n",
    "\n",
    "spark = SparkSession.builder \\\n",
    "          .appName(\"SparkByExamples.com\") \\\n",
    "          .getOrCreate()\n",
    "\n",
    "all_stocks = dict()\n",
    "\n",
    "for file in tqdm(files):\n",
    "    filename = file[file.rfind(\"/\")+1:-9]\n",
    "    #df = spark.read.csv(file)\n",
    "    all_stocks[filename] = spark.read.csv(file, header=True)\n",
    "\n",
    "print(\"done.\")\n",
    "#df = spark.read.csv(cwdir + \"/../../data/S&P500/individual_stocks_5yr/individual_stocks_5yr/\")"
   ]
  },
  {
   "cell_type": "code",
   "execution_count": null,
   "metadata": {
    "pycharm": {
     "name": "#%%\n"
    }
   },
   "outputs": [],
   "source": [
    "print(all_stocks[\"JCI\"].show(5))"
   ]
  },
  {
   "cell_type": "code",
   "execution_count": null,
   "metadata": {
    "pycharm": {
     "name": "#%%\n"
    }
   },
   "outputs": [],
   "source": [
    "aapl = all_stocks[\"AAPL\"]\n",
    "jci = all_stocks[\"JCI\"]\n",
    "curr = aapl.toPandas()[\"open\"].astype('float64')\n",
    "#import seaborn as sns\n",
    "#sns.scatterplot(curr)\n",
    "\n",
    "fig = plot_series(curr);\n",
    "#fig.show()\n",
    "plt.show()\n",
    "#plot_series(jci.toPandas()[\"open\"]);"
   ]
  },
  {
   "cell_type": "code",
   "execution_count": null,
   "metadata": {
    "pycharm": {
     "name": "#%%\n"
    }
   },
   "outputs": [],
   "source": [
    "data = curr\n",
    "y_train, y_test = temporal_train_test_split(data, test_size=300)\n",
    "plot_series(y_train, y_test, labels=[\"y_train\", \"y_test\"])\n",
    "print(y_train.shape[0], y_test.shape[0])\n",
    "plt.show()\n",
    "\n",
    "fh = ForecastingHorizon(y_test.index, is_relative=False)\n",
    "regressor = KNeighborsRegressor(n_neighbors=1)\n",
    "forecaster = make_reduction(regressor, window_length=15, strategy=\"recursive\")\n",
    "forecaster.fit(y_train)\n",
    "y_pred = forecaster.predict(fh)\n",
    "plot_series(y_train, y_test, y_pred, labels=[\"y_train\", \"y_test\", \"y_pred\"])\n",
    "#mean_absolute_percentage_error(y_pred, y_test)\n",
    "plt.show()\n"
   ]
  }
 ],
 "metadata": {
  "kernelspec": {
   "display_name": "Python 3",
   "language": "python",
   "name": "python3"
  },
  "language_info": {
   "codemirror_mode": {
    "name": "ipython",
    "version": 3
   },
   "file_extension": ".py",
   "mimetype": "text/x-python",
   "name": "python",
   "nbconvert_exporter": "python",
   "pygments_lexer": "ipython3",
   "version": "3.9.7"
  }
 },
 "nbformat": 4,
 "nbformat_minor": 0
}

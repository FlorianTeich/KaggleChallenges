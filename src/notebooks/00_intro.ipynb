{
 "cells": [
  {
   "attachments": {},
   "cell_type": "markdown",
   "metadata": {},
   "source": [
    "# 00 - Intro"
   ]
  },
  {
   "cell_type": "code",
   "execution_count": null,
   "metadata": {},
   "outputs": [],
   "source": [
    "# Connect to Postgres\n",
    "import os\n",
    "import sqlalchemy\n",
    "import pandas as pd\n",
    "\n",
    "engine = sqlalchemy.create_engine(\n",
    "            \"postgresql+psycopg2://\"\n",
    "            + os.getenv(\"SQL_USER\")\n",
    "            + \":\"\n",
    "            + os.getenv(\"SQL_PASSWORD\")\n",
    "            + \"@\"\n",
    "            + os.getenv(\"SQL_HOST\")\n",
    "            + \":\"\n",
    "            + os.getenv(\"SQL_PORT\")\n",
    "            + \"/\"\n",
    "            + os.getenv(\"SQL_DB\")\n",
    "        )\n",
    "titanic_data = pd.read_sql_table(\"titanic\", engine)\n",
    "titanic_data"
   ]
  },
  {
   "cell_type": "code",
   "execution_count": null,
   "metadata": {},
   "outputs": [],
   "source": [
    "# Connect to PySpark\n",
    "import pyspark\n",
    "from pyspark.sql import SparkSession\n",
    "\n",
    "spark = SparkSession \\\n",
    "    .builder \\\n",
    "    .appName(\"TitanicExample\") \\\n",
    "    .config(\"spark.jars\", \"/srv/KaggleChallenge/plugins/postgresql-42.5.1.jar\") \\\n",
    "    .getOrCreate()\n",
    "\n",
    "df = spark.read \\\n",
    "    .format(\"jdbc\") \\\n",
    "    .option(\"url\", \"jdbc:postgresql://\" + os.getenv(\"SQL_HOST\") +\":\" + os.getenv(\"SQL_PORT\") + \"/\" + os.getenv(\"SQL_DB\")) \\\n",
    "    .option(\"dbtable\", \"titanic\") \\\n",
    "    .option(\"user\", os.getenv(\"SQL_USER\")) \\\n",
    "    .option(\"password\", os.getenv(\"SQL_PASSWORD\")) \\\n",
    "    .option(\"driver\", \"org.postgresql.Driver\") \\\n",
    "    .load()\n",
    "\n",
    "df.printSchema()"
   ]
  },
  {
   "cell_type": "code",
   "execution_count": null,
   "metadata": {},
   "outputs": [],
   "source": [
    "# Connect to mlflow\n",
    "import mlflow"
   ]
  },
  {
   "cell_type": "code",
   "execution_count": null,
   "metadata": {},
   "outputs": [],
   "source": [
    "# Connect to Kafka\n",
    "import kafka"
   ]
  }
 ],
 "metadata": {
  "language_info": {
   "name": "python"
  }
 },
 "nbformat": 4,
 "nbformat_minor": 2
}

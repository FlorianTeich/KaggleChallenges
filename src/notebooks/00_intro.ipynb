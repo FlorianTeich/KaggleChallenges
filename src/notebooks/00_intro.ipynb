{
 "cells": [
  {
   "cell_type": "code",
   "execution_count": null,
   "id": "352f8f29-88bd-49a4-96a1-9a1c5b23fb60",
   "metadata": {},
   "outputs": [],
   "source": [
    "import sys\n",
    "sys.path.append(\"../src/initialization/\")\n",
    "import setup_db\n",
    "\n",
    "setup_db.setup_db_titanic()"
   ]
  },
  {
   "cell_type": "code",
   "execution_count": null,
   "id": "49e72f25-790e-478a-b70d-293fcf8de072",
   "metadata": {},
   "outputs": [],
   "source": [
    "# Connect to Postgres\n",
    "import os\n",
    "import sqlalchemy\n",
    "import pandas as pd\n",
    "\n",
    "engine = sqlalchemy.create_engine(\n",
    "            \"postgresql+psycopg2://\"\n",
    "            + os.getenv(\"SQL_USER\")\n",
    "            + \":\"\n",
    "            + os.getenv(\"SQL_PASSWORD\")\n",
    "            + \"@\"\n",
    "            + os.getenv(\"SQL_HOST\")\n",
    "            + \":\"\n",
    "            + os.getenv(\"SQL_PORT\")\n",
    "            + \"/\"\n",
    "            + os.getenv(\"SQL_DB\")\n",
    "        )\n",
    "titanic_data = pd.read_sql_table(\"titanic\", engine)\n",
    "titanic_data"
   ]
  },
  {
   "cell_type": "code",
   "execution_count": null,
   "id": "0fa6f33d-05b7-476a-89f7-c65e135bb143",
   "metadata": {},
   "outputs": [],
   "source": [
    "# Connect to PySpark\n",
    "import pyspark\n",
    "from pyspark.sql import SparkSession\n",
    "\n",
    "spark = SparkSession \\\n",
    "    .builder \\\n",
    "    .appName(\"TitanicExample\") \\\n",
    "    .config(\"spark.jars\", \"/srv/KaggleChallenge/plugins/postgresql-42.5.1.jar\") \\\n",
    "    .getOrCreate()\n",
    "\n",
    "df = spark.read \\\n",
    "    .format(\"jdbc\") \\\n",
    "    .option(\"url\", \"jdbc:postgresql://\" + os.getenv(\"SQL_HOST\") +\":\" + os.getenv(\"SQL_PORT\") + \"/\" + os.getenv(\"SQL_DB\")) \\\n",
    "    .option(\"dbtable\", \"titanic\") \\\n",
    "    .option(\"user\", os.getenv(\"SQL_USER\")) \\\n",
    "    .option(\"password\", os.getenv(\"SQL_PASSWORD\")) \\\n",
    "    .option(\"driver\", \"org.postgresql.Driver\") \\\n",
    "    .load()\n",
    "\n",
    "df.printSchema()"
   ]
  },
  {
   "cell_type": "code",
   "execution_count": null,
   "id": "89e3a541-8ed3-4486-b75c-fd0eace211bb",
   "metadata": {},
   "outputs": [],
   "source": [
    "# Connect to mlflow\n",
    "import mlflow\n",
    "\n",
    "mlflow.set_tracking_uri(\"http://mlflow:5000\")\n",
    "mlflow.set_experiment(\"my-experiment\")\n"
   ]
  },
  {
   "cell_type": "code",
   "execution_count": null,
   "id": "424c1a83-c2b7-455b-9632-68569d0239eb",
   "metadata": {},
   "outputs": [],
   "source": [
    "# Connect to Kafka\n",
    "import kafka"
   ]
  },
  {
   "cell_type": "code",
   "execution_count": null,
   "id": "ea30c557-7d99-41d9-8c50-ba102de3b5b5",
   "metadata": {},
   "outputs": [],
   "source": [
    "# Connect to MinIO\n",
    "import minio\n",
    "from minio import Minio\n",
    "\n",
    "# Create a client with the MinIO server playground, its access key\n",
    "# and secret key.\n",
    "client = Minio(\n",
    "    endpoint=\"minio:9000\",\n",
    "    access_key=\"GArH6uh55RJ44MBc\",\n",
    "    secret_key=\"wZki2TznKq0w39wprAqm7KvKCBPeH5nm\",\n",
    "    secure=False\n",
    ")\n",
    "\n",
    "found = client.bucket_exists(\"titanic\")\n",
    "if not found:\n",
    "    client.make_bucket(\"titanic\")\n",
    "else:\n",
    "    print(\"Bucket 'titanic' already exists\")\n",
    "\n",
    "client.fput_object(\n",
    "    \"titanic\", \"00_Intro.ipynb\", \"/srv/KaggleChallenge/extra_data/00_Intro.ipynb\",\n",
    ")\n",
    "print(\n",
    "    \"'00_intro.ipynb' is successfully uploaded as \"\n",
    "    \"object 00_intro.ipynb' to bucket '00_intro.ipynb'.\"\n",
    ")"
   ]
  },
  {
   "cell_type": "code",
   "execution_count": null,
   "id": "5dd7e2f5-b80a-40f9-9190-e31157f2bb67",
   "metadata": {},
   "outputs": [],
   "source": []
  },
  {
   "cell_type": "code",
   "execution_count": null,
   "id": "1a6ea500-fe4e-4c73-8cd1-73e26677ab7f",
   "metadata": {},
   "outputs": [],
   "source": [
    "#import logging\n",
    "#logging.basicConfig(level=logging.DEBUG)"
   ]
  },
  {
   "cell_type": "code",
   "execution_count": null,
   "id": "e3b6d580-f6db-46aa-8121-853c0e4e94c5",
   "metadata": {},
   "outputs": [],
   "source": [
    "\n",
    "from kafka import KafkaProducer\n",
    "\n",
    "producer = KafkaProducer(bootstrap_servers='kafka:9092')\n",
    "for _ in range(10):\n",
    "    producer.send('foobar', b'some_message_bytes')"
   ]
  },
  {
   "cell_type": "code",
   "execution_count": null,
   "id": "e1ab275f-e8a6-4567-bce7-36339098673e",
   "metadata": {},
   "outputs": [],
   "source": [
    "from kafka import KafkaConsumer\n",
    "\n",
    "consumer = KafkaConsumer('my_favorite_topic', bootstrap_servers='kafka:9092')\n",
    "for msg in consumer:\n",
    "    print (msg)"
   ]
  }
 ],
 "metadata": {
  "kernelspec": {
   "display_name": "Python 3 (ipykernel)",
   "language": "python",
   "name": "python3"
  },
  "language_info": {
   "codemirror_mode": {
    "name": "ipython",
    "version": 3
   },
   "file_extension": ".py",
   "mimetype": "text/x-python",
   "name": "python",
   "nbconvert_exporter": "python",
   "pygments_lexer": "ipython3",
   "version": "3.10.7"
  }
 },
 "nbformat": 4,
 "nbformat_minor": 5
}

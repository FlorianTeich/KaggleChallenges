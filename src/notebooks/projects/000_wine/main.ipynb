{
 "cells": [
  {
   "cell_type": "code",
   "execution_count": null,
   "id": "52e41ff8-c91e-4722-806d-bbcf8660e04f",
   "metadata": {
    "tags": []
   },
   "outputs": [],
   "source": [
    "import kcu\n",
    "import pandas as pd\n",
    "import numpy as np\n",
    "import sqlalchemy\n",
    "import mlflow\n",
    "from sklearn.metrics import accuracy_score\n",
    "from sklearn.datasets import load_wine\n",
    "from xgboost import XGBClassifier\n",
    "from sklearn.model_selection import train_test_split\n",
    "\n",
    "mlflow.set_tracking_uri(\"http://mlflow:5000\")"
   ]
  },
  {
   "attachments": {},
   "cell_type": "markdown",
   "id": "4c4c9df8-cb48-45fd-bfd9-4fd6c207125e",
   "metadata": {},
   "source": [
    "# Store dataset in Backend"
   ]
  },
  {
   "cell_type": "code",
   "execution_count": null,
   "id": "0ec0520c-0e09-4dd5-8bc3-623fe893a053",
   "metadata": {
    "tags": []
   },
   "outputs": [],
   "source": [
    "backend = kcu.utils.get_default_backend_config()\n",
    "url = kcu.utils.get_sql_url(backend)\n",
    "engine = sqlalchemy.create_engine(url)\n",
    "\n",
    "data = load_wine()\n",
    "pd.DataFrame(np.hstack([data[\"data\"], np.expand_dims(data[\"target\"], 1)]),\n",
    "             columns=data[\"feature_names\"] + [\"label\"]).to_sql(\"wine\", engine, if_exists=\"replace\")"
   ]
  },
  {
   "attachments": {},
   "cell_type": "markdown",
   "id": "fc4af4d3-c6ed-4b4f-b1a4-9e1a2c473571",
   "metadata": {},
   "source": [
    "# Load Data via PySpark"
   ]
  },
  {
   "cell_type": "code",
   "execution_count": null,
   "id": "949093b2-2b1b-4b22-90de-f5188986f4e5",
   "metadata": {
    "tags": []
   },
   "outputs": [],
   "source": [
    "sess = kcu.utils.get_pyspark_session(backend[\"dbtype\"])"
   ]
  },
  {
   "cell_type": "code",
   "execution_count": null,
   "id": "f49947e7-0823-4fe4-9c0c-5f33d8592891",
   "metadata": {
    "tags": []
   },
   "outputs": [],
   "source": [
    "df = kcu.utils.get_df_from_backend(\"wine\", backend=backend, sess=sess).toPandas()"
   ]
  },
  {
   "attachments": {},
   "cell_type": "markdown",
   "id": "f08701af-1047-4e9b-9e0c-030940d47c1d",
   "metadata": {},
   "source": [
    "# Run training"
   ]
  },
  {
   "cell_type": "code",
   "execution_count": null,
   "id": "4df9355f-5f3c-4ee0-832b-75c9df0f7594",
   "metadata": {
    "tags": []
   },
   "outputs": [],
   "source": [
    "mlflow.set_experiment(\"wine\")\n",
    "mlflow.xgboost.autolog()\n",
    "\n",
    "with mlflow.start_run():\n",
    "    X_train, X_test, y_train, y_test = train_test_split(df.drop(columns=[\"label\"]), df['label'], test_size=.2)\n",
    "\n",
    "    # create model instance\n",
    "    #mlflow.log_params(key=\"test_accuracy\", value=test_acc)\n",
    "    bst = XGBClassifier(n_estimators=2, max_depth=2, learning_rate=1, objective='binary:logistic')\n",
    "\n",
    "    # fit model\n",
    "    bst.fit(X_train, y_train)\n",
    "\n",
    "    # make predictions\n",
    "    preds = bst.predict(X_test)\n",
    "\n",
    "    # evaluate\n",
    "    test_acc = accuracy_score(y_test, preds)\n",
    "    mlflow.log_metric(key=\"test_accuracy\", value=test_acc)"
   ]
  }
 ],
 "metadata": {
  "kernelspec": {
   "display_name": "Python 3 (ipykernel)",
   "language": "python",
   "name": "python3"
  },
  "language_info": {
   "codemirror_mode": {
    "name": "ipython",
    "version": 3
   },
   "file_extension": ".py",
   "mimetype": "text/x-python",
   "name": "python",
   "nbconvert_exporter": "python",
   "pygments_lexer": "ipython3",
   "version": "3.9.13"
  }
 },
 "nbformat": 4,
 "nbformat_minor": 5
}

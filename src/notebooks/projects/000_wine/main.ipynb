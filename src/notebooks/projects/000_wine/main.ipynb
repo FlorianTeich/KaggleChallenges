{
 "cells": [
  {
   "cell_type": "code",
   "execution_count": 1,
   "id": "52e41ff8-c91e-4722-806d-bbcf8660e04f",
   "metadata": {
    "tags": []
   },
   "outputs": [],
   "source": [
    "import kcu\n",
    "import pandas as pd\n",
    "import numpy as np\n",
    "import sqlalchemy\n",
    "import mlflow\n",
    "from sklearn.metrics import accuracy_score\n",
    "from sklearn.datasets import load_wine\n",
    "from xgboost import XGBClassifier\n",
    "from sklearn.model_selection import train_test_split\n",
    "\n",
    "mlflow.set_tracking_uri(\"http://mlflow:5000\")"
   ]
  },
  {
   "attachments": {},
   "cell_type": "markdown",
   "id": "4c4c9df8-cb48-45fd-bfd9-4fd6c207125e",
   "metadata": {},
   "source": [
    "# Store dataset in Backend"
   ]
  },
  {
   "cell_type": "code",
   "execution_count": 2,
   "id": "0ec0520c-0e09-4dd5-8bc3-623fe893a053",
   "metadata": {
    "tags": []
   },
   "outputs": [
    {
     "data": {
      "text/plain": [
       "178"
      ]
     },
     "execution_count": 2,
     "metadata": {},
     "output_type": "execute_result"
    }
   ],
   "source": [
    "backend = kcu.utils.get_default_backend_config()\n",
    "url = kcu.utils.get_sql_url(backend)\n",
    "engine = sqlalchemy.create_engine(url)\n",
    "\n",
    "data = load_wine()\n",
    "data_pd = pd.DataFrame(np.hstack([data[\"data\"], np.expand_dims(data[\"target\"], 1)]),\n",
    "             columns=data[\"feature_names\"] + [\"label\"])\n",
    "data_pd.to_sql(\"wine\", engine, if_exists=\"replace\")"
   ]
  },
  {
   "attachments": {},
   "cell_type": "markdown",
   "id": "fc4af4d3-c6ed-4b4f-b1a4-9e1a2c473571",
   "metadata": {},
   "source": [
    "# Load Data via PySpark"
   ]
  },
  {
   "cell_type": "code",
   "execution_count": 3,
   "id": "949093b2-2b1b-4b22-90de-f5188986f4e5",
   "metadata": {
    "tags": []
   },
   "outputs": [
    {
     "name": "stderr",
     "output_type": "stream",
     "text": [
      "23/05/25 17:11:32 WARN NativeCodeLoader: Unable to load native-hadoop library for your platform... using builtin-java classes where applicable\n",
      "Setting default log level to \"WARN\".\n",
      "To adjust logging level use sc.setLogLevel(newLevel). For SparkR, use setLogLevel(newLevel).\n"
     ]
    }
   ],
   "source": [
    "sess = kcu.utils.get_pyspark_session(backend[\"dbtype\"])"
   ]
  },
  {
   "cell_type": "code",
   "execution_count": 5,
   "id": "f49947e7-0823-4fe4-9c0c-5f33d8592891",
   "metadata": {
    "tags": []
   },
   "outputs": [],
   "source": [
    "df = kcu.utils.get_df_from_backend(\"wine\", backend=backend, sess=sess)\n",
    "pandas_df = df.toPandas()"
   ]
  },
  {
   "cell_type": "code",
   "execution_count": 13,
   "id": "d2742a14-71f5-4357-8557-6bbab8ebddb5",
   "metadata": {
    "tags": []
   },
   "outputs": [
    {
     "name": "stdout",
     "output_type": "stream",
     "text": [
      "{'default_value': <function feature_identity at 0x7f6809028dc0>, 'parameter_value': {'feature_col': 'ash', 'key_out_feature_column': 'ash_feature'}}\n"
     ]
    },
    {
     "name": "stderr",
     "output_type": "stream",
     "text": [
      "23/05/25 17:21:22 WARN package: Truncated the string representation of a plan since it was too large. This behavior can be adjusted by setting 'spark.sql.debug.maxToStringFields'.\n"
     ]
    },
    {
     "name": "stdout",
     "output_type": "stream",
     "text": [
      "+-----+-------+----------+----+-----------------+---------+-------------+----------+--------------------+---------------+---------------+----+----------------------------+-------+-----+-----------+--------------------+\n",
      "|index|alcohol|malic_acid| ash|alcalinity_of_ash|magnesium|total_phenols|flavanoids|nonflavanoid_phenols|proanthocyanins|color_intensity| hue|od280/od315_of_diluted_wines|proline|label|ash_feature|            features|\n",
      "+-----+-------+----------+----+-----------------+---------+-------------+----------+--------------------+---------------+---------------+----+----------------------------+-------+-----+-----------+--------------------+\n",
      "|    0|  14.23|      1.71|2.43|             15.6|    127.0|          2.8|      3.06|                0.28|           2.29|           5.64|1.04|                        3.92| 1065.0|  0.0|       2.43|[14.23,1.71,2.43,...|\n",
      "|    1|   13.2|      1.78|2.14|             11.2|    100.0|         2.65|      2.76|                0.26|           1.28|           4.38|1.05|                         3.4| 1050.0|  0.0|       2.14|[13.2,1.78,2.14,1...|\n",
      "|    2|  13.16|      2.36|2.67|             18.6|    101.0|          2.8|      3.24|                 0.3|           2.81|           5.68|1.03|                        3.17| 1185.0|  0.0|       2.67|[13.16,2.36,2.67,...|\n",
      "|    3|  14.37|      1.95| 2.5|             16.8|    113.0|         3.85|      3.49|                0.24|           2.18|            7.8|0.86|                        3.45| 1480.0|  0.0|        2.5|[14.37,1.95,2.5,1...|\n",
      "|    4|  13.24|      2.59|2.87|             21.0|    118.0|          2.8|      2.69|                0.39|           1.82|           4.32|1.04|                        2.93|  735.0|  0.0|       2.87|[13.24,2.59,2.87,...|\n",
      "|    5|   14.2|      1.76|2.45|             15.2|    112.0|         3.27|      3.39|                0.34|           1.97|           6.75|1.05|                        2.85| 1450.0|  0.0|       2.45|[14.2,1.76,2.45,1...|\n",
      "|    6|  14.39|      1.87|2.45|             14.6|     96.0|          2.5|      2.52|                 0.3|           1.98|           5.25|1.02|                        3.58| 1290.0|  0.0|       2.45|[14.39,1.87,2.45,...|\n",
      "|    7|  14.06|      2.15|2.61|             17.6|    121.0|          2.6|      2.51|                0.31|           1.25|           5.05|1.06|                        3.58| 1295.0|  0.0|       2.61|[14.06,2.15,2.61,...|\n",
      "|    8|  14.83|      1.64|2.17|             14.0|     97.0|          2.8|      2.98|                0.29|           1.98|            5.2|1.08|                        2.85| 1045.0|  0.0|       2.17|[14.83,1.64,2.17,...|\n",
      "|    9|  13.86|      1.35|2.27|             16.0|     98.0|         2.98|      3.15|                0.22|           1.85|           7.22|1.01|                        3.55| 1045.0|  0.0|       2.27|[13.86,1.35,2.27,...|\n",
      "|   10|   14.1|      2.16| 2.3|             18.0|    105.0|         2.95|      3.32|                0.22|           2.38|           5.75|1.25|                        3.17| 1510.0|  0.0|        2.3|[14.1,2.16,2.3,18...|\n",
      "|   11|  14.12|      1.48|2.32|             16.8|     95.0|          2.2|      2.43|                0.26|           1.57|            5.0|1.17|                        2.82| 1280.0|  0.0|       2.32|[14.12,1.48,2.32,...|\n",
      "|   12|  13.75|      1.73|2.41|             16.0|     89.0|          2.6|      2.76|                0.29|           1.81|            5.6|1.15|                         2.9| 1320.0|  0.0|       2.41|[13.75,1.73,2.41,...|\n",
      "|   13|  14.75|      1.73|2.39|             11.4|     91.0|          3.1|      3.69|                0.43|           2.81|            5.4|1.25|                        2.73| 1150.0|  0.0|       2.39|[14.75,1.73,2.39,...|\n",
      "|   14|  14.38|      1.87|2.38|             12.0|    102.0|          3.3|      3.64|                0.29|           2.96|            7.5| 1.2|                         3.0| 1547.0|  0.0|       2.38|[14.38,1.87,2.38,...|\n",
      "|   15|  13.63|      1.81| 2.7|             17.2|    112.0|         2.85|      2.91|                 0.3|           1.46|            7.3|1.28|                        2.88| 1310.0|  0.0|        2.7|[13.63,1.81,2.7,1...|\n",
      "|   16|   14.3|      1.92|2.72|             20.0|    120.0|          2.8|      3.14|                0.33|           1.97|            6.2|1.07|                        2.65| 1280.0|  0.0|       2.72|[14.3,1.92,2.72,2...|\n",
      "|   17|  13.83|      1.57|2.62|             20.0|    115.0|         2.95|       3.4|                 0.4|           1.72|            6.6|1.13|                        2.57| 1130.0|  0.0|       2.62|[13.83,1.57,2.62,...|\n",
      "|   18|  14.19|      1.59|2.48|             16.5|    108.0|          3.3|      3.93|                0.32|           1.86|            8.7|1.23|                        2.82| 1680.0|  0.0|       2.48|[14.19,1.59,2.48,...|\n",
      "|   19|  13.64|       3.1|2.56|             15.2|    116.0|          2.7|      3.03|                0.17|           1.66|            5.1|0.96|                        3.36|  845.0|  0.0|       2.56|[13.64,3.1,2.56,1...|\n",
      "+-----+-------+----------+----+-----------------+---------+-------------+----------+--------------------+---------------+---------------+----+----------------------------+-------+-----+-----------+--------------------+\n",
      "only showing top 20 rows\n",
      "\n"
     ]
    }
   ],
   "source": [
    "# Try out FeatureStore and ETL\n",
    "import pyspark\n",
    "import dill\n",
    "import pandas as pd\n",
    "from pyspark.ml import Pipeline\n",
    "from pyspark.ml.feature import VectorAssembler\n",
    "from kcu.functiontransform import FunctionTransform\n",
    "\n",
    "va = VectorAssembler(inputCols=[\n",
    "    \"alcohol\",\n",
    "    \"malic_acid\",\n",
    "    \"ash\",\n",
    "    \"alcalinity_of_ash\",\n",
    "    \"magnesium\",\n",
    "    \"total_phenols\",\n",
    "    \"flavanoids\",\n",
    "    \"nonflavanoid_phenols\",\n",
    "    \"proanthocyanins\",\n",
    "    \"color_intensity\",\n",
    "    \"hue\",\n",
    "    \"od280/od315_of_diluted_wines\",\n",
    "    \"proline\",], outputCol=\"features\")\n",
    "\n",
    "def feature_identity(df, feature_col,\n",
    "                  key_out_feature_column):\n",
    "    import pyspark.sql.functions as F\n",
    "\n",
    "    df = (\n",
    "        df\n",
    "        .withColumn(\n",
    "            key_out_feature_column,\n",
    "            F.col(feature_col),\n",
    "        )\n",
    "    )\n",
    "    return df\n",
    "\n",
    "\n",
    "feature_ash_parameters = {\n",
    "    \"feature_col\": \"ash\",\n",
    "    \"key_out_feature_column\": \"ash_feature\"\n",
    "}\n",
    "\n",
    "\n",
    "feature_param_pairs = [\n",
    "    (feature_identity, feature_ash_parameters)\n",
    "]\n",
    "\n",
    "stages = []\n",
    "dict_to_save = dict()\n",
    "\n",
    "for fpp in feature_param_pairs:\n",
    "    ft = FunctionTransform(\n",
    "        default_value=fpp[0],\n",
    "        parameter_value=fpp[1]\n",
    "    )\n",
    "    stages.append(ft)\n",
    "    dict_to_save[ft.uid] = fpp[1]\n",
    "stages.append(va)\n",
    "pipe = Pipeline(stages=stages)\n",
    "newpipe = pipe.fit(df)\n",
    "try:\n",
    "    newpipe.write().save(\"models/testpipe\")\n",
    "except:\n",
    "    newpipe.write().overwrite().save(\"models/testpipe\")\n",
    "\n",
    "newpipe.transform(df).show()\n",
    "\n",
    "with open('fpp.pickle', 'wb') as handle:\n",
    "    dill.dump(dict_to_save, handle, protocol=dill.HIGHEST_PROTOCOL)"
   ]
  },
  {
   "cell_type": "code",
   "execution_count": 14,
   "id": "521f97b4-b2b0-46ef-bf62-84b174e9d04a",
   "metadata": {
    "tags": []
   },
   "outputs": [
    {
     "name": "stdout",
     "output_type": "stream",
     "text": [
      "{}\n",
      "FunctionTransform_c0bdde491ec6\n",
      "+-----+-------+----------+----+-----------------+---------+-------------+----------+--------------------+---------------+---------------+----+----------------------------+-------+-----+-----------+--------------------+\n",
      "|index|alcohol|malic_acid| ash|alcalinity_of_ash|magnesium|total_phenols|flavanoids|nonflavanoid_phenols|proanthocyanins|color_intensity| hue|od280/od315_of_diluted_wines|proline|label|ash_feature|            features|\n",
      "+-----+-------+----------+----+-----------------+---------+-------------+----------+--------------------+---------------+---------------+----+----------------------------+-------+-----+-----------+--------------------+\n",
      "|    0|  14.23|      1.71|2.43|             15.6|    127.0|          2.8|      3.06|                0.28|           2.29|           5.64|1.04|                        3.92| 1065.0|  0.0|       2.43|[14.23,1.71,2.43,...|\n",
      "|    1|   13.2|      1.78|2.14|             11.2|    100.0|         2.65|      2.76|                0.26|           1.28|           4.38|1.05|                         3.4| 1050.0|  0.0|       2.14|[13.2,1.78,2.14,1...|\n",
      "|    2|  13.16|      2.36|2.67|             18.6|    101.0|          2.8|      3.24|                 0.3|           2.81|           5.68|1.03|                        3.17| 1185.0|  0.0|       2.67|[13.16,2.36,2.67,...|\n",
      "|    3|  14.37|      1.95| 2.5|             16.8|    113.0|         3.85|      3.49|                0.24|           2.18|            7.8|0.86|                        3.45| 1480.0|  0.0|        2.5|[14.37,1.95,2.5,1...|\n",
      "|    4|  13.24|      2.59|2.87|             21.0|    118.0|          2.8|      2.69|                0.39|           1.82|           4.32|1.04|                        2.93|  735.0|  0.0|       2.87|[13.24,2.59,2.87,...|\n",
      "|    5|   14.2|      1.76|2.45|             15.2|    112.0|         3.27|      3.39|                0.34|           1.97|           6.75|1.05|                        2.85| 1450.0|  0.0|       2.45|[14.2,1.76,2.45,1...|\n",
      "|    6|  14.39|      1.87|2.45|             14.6|     96.0|          2.5|      2.52|                 0.3|           1.98|           5.25|1.02|                        3.58| 1290.0|  0.0|       2.45|[14.39,1.87,2.45,...|\n",
      "|    7|  14.06|      2.15|2.61|             17.6|    121.0|          2.6|      2.51|                0.31|           1.25|           5.05|1.06|                        3.58| 1295.0|  0.0|       2.61|[14.06,2.15,2.61,...|\n",
      "|    8|  14.83|      1.64|2.17|             14.0|     97.0|          2.8|      2.98|                0.29|           1.98|            5.2|1.08|                        2.85| 1045.0|  0.0|       2.17|[14.83,1.64,2.17,...|\n",
      "|    9|  13.86|      1.35|2.27|             16.0|     98.0|         2.98|      3.15|                0.22|           1.85|           7.22|1.01|                        3.55| 1045.0|  0.0|       2.27|[13.86,1.35,2.27,...|\n",
      "|   10|   14.1|      2.16| 2.3|             18.0|    105.0|         2.95|      3.32|                0.22|           2.38|           5.75|1.25|                        3.17| 1510.0|  0.0|        2.3|[14.1,2.16,2.3,18...|\n",
      "|   11|  14.12|      1.48|2.32|             16.8|     95.0|          2.2|      2.43|                0.26|           1.57|            5.0|1.17|                        2.82| 1280.0|  0.0|       2.32|[14.12,1.48,2.32,...|\n",
      "|   12|  13.75|      1.73|2.41|             16.0|     89.0|          2.6|      2.76|                0.29|           1.81|            5.6|1.15|                         2.9| 1320.0|  0.0|       2.41|[13.75,1.73,2.41,...|\n",
      "|   13|  14.75|      1.73|2.39|             11.4|     91.0|          3.1|      3.69|                0.43|           2.81|            5.4|1.25|                        2.73| 1150.0|  0.0|       2.39|[14.75,1.73,2.39,...|\n",
      "|   14|  14.38|      1.87|2.38|             12.0|    102.0|          3.3|      3.64|                0.29|           2.96|            7.5| 1.2|                         3.0| 1547.0|  0.0|       2.38|[14.38,1.87,2.38,...|\n",
      "|   15|  13.63|      1.81| 2.7|             17.2|    112.0|         2.85|      2.91|                 0.3|           1.46|            7.3|1.28|                        2.88| 1310.0|  0.0|        2.7|[13.63,1.81,2.7,1...|\n",
      "|   16|   14.3|      1.92|2.72|             20.0|    120.0|          2.8|      3.14|                0.33|           1.97|            6.2|1.07|                        2.65| 1280.0|  0.0|       2.72|[14.3,1.92,2.72,2...|\n",
      "|   17|  13.83|      1.57|2.62|             20.0|    115.0|         2.95|       3.4|                 0.4|           1.72|            6.6|1.13|                        2.57| 1130.0|  0.0|       2.62|[13.83,1.57,2.62,...|\n",
      "|   18|  14.19|      1.59|2.48|             16.5|    108.0|          3.3|      3.93|                0.32|           1.86|            8.7|1.23|                        2.82| 1680.0|  0.0|       2.48|[14.19,1.59,2.48,...|\n",
      "|   19|  13.64|       3.1|2.56|             15.2|    116.0|          2.7|      3.03|                0.17|           1.66|            5.1|0.96|                        3.36|  845.0|  0.0|       2.56|[13.64,3.1,2.56,1...|\n",
      "+-----+-------+----------+----+-----------------+---------+-------------+----------+--------------------+---------------+---------------+----+----------------------------+-------+-----+-----------+--------------------+\n",
      "only showing top 20 rows\n",
      "\n"
     ]
    }
   ],
   "source": [
    "from pyspark.ml import PipelineModel\n",
    "\n",
    "newpipe = PipelineModel.load(\"models/testpipe\")\n",
    "\n",
    "with open('fpp.pickle', 'rb') as handle:\n",
    "    fpp = dill.load(handle)\n",
    "\n",
    "for entry in fpp:\n",
    "    print(entry)\n",
    "    for i in range(len(newpipe.stages)):\n",
    "        if newpipe.stages[i].uid == entry:\n",
    "            newpipe.stages[i] = newpipe.stages[i].setParameterValue(dill.dumps(fpp[entry]).decode(encoding=\"raw_unicode_escape\"))\n",
    "\n",
    "transformed = newpipe.transform(df)\n",
    "\n",
    "transformed.show()"
   ]
  },
  {
   "attachments": {},
   "cell_type": "markdown",
   "id": "f08701af-1047-4e9b-9e0c-030940d47c1d",
   "metadata": {},
   "source": [
    "# Run training"
   ]
  },
  {
   "cell_type": "code",
   "execution_count": 5,
   "id": "4df9355f-5f3c-4ee0-832b-75c9df0f7594",
   "metadata": {
    "tags": []
   },
   "outputs": [
    {
     "name": "stderr",
     "output_type": "stream",
     "text": [
      "2023/05/25 16:25:42 WARNING mlflow.utils.autologging_utils: MLflow autologging encountered a warning: \"/venv/lib/python3.9/site-packages/mlflow/models/signature.py:137: UserWarning: Hint: Inferred schema contains integer column(s). Integer columns in Python cannot represent missing values. If your input data contains missing values at inference time, it will be encoded as floats and will cause a schema enforcement error. The best way to avoid this problem is to infer the model schema based on a realistic data sample (training dataset) that includes missing values. Alternatively, you can declare integer columns as doubles (float64) whenever these columns may have missing values. See `Handling Integers With Missing Values <https://www.mlflow.org/docs/latest/models.html#handling-integers-with-missing-values>`_ for more details.\"\n",
      "2023/05/25 16:25:48 WARNING mlflow.utils.autologging_utils: MLflow autologging encountered a warning: \"/venv/lib/python3.9/site-packages/_distutils_hack/__init__.py:33: UserWarning: Setuptools is replacing distutils.\"\n"
     ]
    }
   ],
   "source": [
    "mlflow.set_experiment(\"wine\")\n",
    "mlflow.xgboost.autolog()\n",
    "\n",
    "with mlflow.start_run():\n",
    "    X_train, X_test, y_train, y_test = train_test_split(df.drop(columns=[\"label\"]), df['label'], test_size=.2)\n",
    "\n",
    "    # create model instance\n",
    "    #mlflow.log_params(key=\"test_accuracy\", value=test_acc)\n",
    "    bst = XGBClassifier(n_estimators=2, max_depth=2, learning_rate=1, objective='binary:logistic')\n",
    "\n",
    "    # fit model\n",
    "    bst.fit(X_train, y_train)\n",
    "\n",
    "    # make predictions\n",
    "    preds = bst.predict(X_test)\n",
    "\n",
    "    # evaluate\n",
    "    test_acc = accuracy_score(y_test, preds)\n",
    "    mlflow.log_metric(key=\"test_accuracy\", value=test_acc)"
   ]
  },
  {
   "cell_type": "code",
   "execution_count": null,
   "id": "55e1ad1b-c5c2-42af-a8bf-7274a877ff76",
   "metadata": {},
   "outputs": [],
   "source": []
  }
 ],
 "metadata": {
  "kernelspec": {
   "display_name": "Python 3 (ipykernel)",
   "language": "python",
   "name": "python3"
  },
  "language_info": {
   "codemirror_mode": {
    "name": "ipython",
    "version": 3
   },
   "file_extension": ".py",
   "mimetype": "text/x-python",
   "name": "python",
   "nbconvert_exporter": "python",
   "pygments_lexer": "ipython3",
   "version": "3.9.16"
  }
 },
 "nbformat": 4,
 "nbformat_minor": 5
}

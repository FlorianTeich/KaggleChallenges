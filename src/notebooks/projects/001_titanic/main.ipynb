{
 "cells": [
  {
   "cell_type": "code",
   "execution_count": null,
   "metadata": {},
   "outputs": [],
   "source": [
    "import sklearn\n",
    "import torch.optim.optimizer\n",
    "from sklearn import tree\n",
    "import os\n",
    "import numpy as np\n",
    "import pandas as pd\n",
    "import kcu as utils\n",
    "import matplotlib.pyplot as plt\n",
    "import seaborn as sns\n",
    "import torch.optim as optim\n",
    "import pyspark\n",
    "\n",
    "from kcu import dataset\n",
    "\n",
    "dataset.TitanicDataset().get_dataset()\n",
    "\n",
    "cwdir = os.getcwd()\n",
    "trainfile = cwdir + \"/../../data/titanic/train.csv\"\n",
    "testfile = cwdir + \"/../../data/titanic/test.csv\"\n",
    "train_data_pd = pd.read_csv(trainfile)\n",
    "\n",
    "# Plot some samples:\n",
    "print(train_data_pd.head())\n",
    "\n",
    "# lets get some statistics\n",
    "train_data_pd.describe()\n",
    "\n",
    "profile = utils.utils.report_dataframe(train_data_pd)"
   ]
  },
  {
   "cell_type": "code",
   "execution_count": null,
   "metadata": {},
   "outputs": [],
   "source": [
    "from pyspark.sql import SparkSession\n",
    "\n",
    "spark = SparkSession.builder.master(\"local[1]\") \\\n",
    "          .appName(\"SparkByExamples.com\") \\\n",
    "          .getOrCreate()\n",
    "df = spark.read.options(header='True',).csv(trainfile)"
   ]
  },
  {
   "cell_type": "code",
   "execution_count": null,
   "metadata": {},
   "outputs": [],
   "source": [
    "df"
   ]
  },
  {
   "cell_type": "code",
   "execution_count": null,
   "metadata": {
    "pycharm": {
     "name": "#%%\n"
    }
   },
   "outputs": [],
   "source": [
    "# This report gives us a lot of information, namely:\n",
    "# * \"Name\" has many different values\n",
    "# * There are several strong/significant correlations\n",
    "# * IDs are unique (can be neglected as features) -> Feature selection\n",
    "\n",
    "features = ['Pclass', 'Sex', 'SibSp', 'Parch']\n",
    "X_train = pd.get_dummies(train_data_pd[features])\n",
    "# Lets drop one of the two columns \"Sex_male\"/\"Sex_female\" as there is no information gain\n",
    "X_train = X_train.drop(\"Sex_male\", axis=1)\n",
    "Y_train = train_data_pd['Survived']\n",
    "\n",
    "#multi_corr = utils.utils.multiple_correlation(train_data_pd[['Pclass', 'SibSp', 'Parch', \"Survived\"]], \"Survived\")\n",
    "#plt.show()\n",
    "\n",
    "utils.utils.correlation_matrix(pd.DataFrame(X_train))"
   ]
  },
  {
   "cell_type": "code",
   "execution_count": null,
   "metadata": {
    "pycharm": {
     "name": "#%%\n"
    }
   },
   "outputs": [],
   "source": [
    "#utils.boilerplates.determine_durations(len(X_train.columns), 10000, sklearn.svm.SVC())\n",
    "\n",
    "train_inds, val_inds = sklearn.model_selection.train_test_split(\n",
    "    np.arange(len(Y_train)), test_size=0.2\n",
    ")\n",
    "train_X, val_X = X_train.iloc[train_inds], X_train.iloc[val_inds]\n",
    "train_Y, val_Y = Y_train.iloc[train_inds], Y_train.iloc[val_inds]\n",
    "\n",
    "# Try several classifiers using kFold CrossValidation\n",
    "performances = utils.boilerplates.run_several_classifiers(X_train, Y_train, cv=True)\n",
    "\n",
    "# Lets report their performances\n",
    "chart = sns.boxplot(x=\"method\", y=\"accuracy\", data=performances)\n",
    "chart.set_xticklabels(chart.get_xticklabels(), rotation=45, horizontalalignment='right')\n",
    "plt.title(\"Accuracy of various methods using 5-fold CV\")\n",
    "plt.tight_layout()\n",
    "plt.show()"
   ]
  },
  {
   "cell_type": "code",
   "execution_count": null,
   "metadata": {
    "pycharm": {
     "name": "#%%\n"
    }
   },
   "outputs": [],
   "source": [
    "import torch\n",
    "from torch import nn\n",
    "from torch.utils.data import TensorDataset, DataLoader\n",
    "\n",
    "device = torch.device('cuda' if torch.cuda.is_available() else 'cpu')\n",
    "model = utils.models.ResNet.make_baseline(\n",
    "     d_in=4,\n",
    "     d=16,\n",
    "     d_intermidiate=16,\n",
    "     dropout_first=0.2,\n",
    "     dropout_second=0.0,\n",
    "     n_blocks=2,\n",
    "     d_out=2\n",
    ").to(device)\n",
    "lr = 0.001\n",
    "weight_decay = 0.0\n",
    "\n",
    "optimizer = torch.optim.AdamW(model.parameters(), lr=lr, weight_decay=weight_decay)\n",
    "\n",
    "train_dset = TensorDataset(torch.Tensor(train_X.to_numpy()),\n",
    "                           torch.Tensor(train_Y.to_numpy()).long()) # create your datset\n",
    "train_loader = DataLoader(train_dset, batch_size=128, shuffle=True)\n",
    "val_dset = TensorDataset(torch.Tensor(val_X.to_numpy()),\n",
    "                         torch.Tensor(val_Y.to_numpy()).long()) # create your datset\n",
    "val_loader = DataLoader(val_dset, batch_size=128, shuffle=False)\n",
    "\n",
    "utils.boilerplates.train_classifier(model, optimizer, train_loader,\n",
    "                                    device, 20, nn.CrossEntropyLoss(), val_loader, True)"
   ]
  },
  {
   "cell_type": "code",
   "execution_count": null,
   "metadata": {
    "pycharm": {
     "name": "#%%\n"
    }
   },
   "outputs": [],
   "source": []
  }
 ],
 "metadata": {
  "kernelspec": {
   "display_name": "Python 3.9.7 ('base')",
   "language": "python",
   "name": "python3"
  },
  "language_info": {
   "codemirror_mode": {
    "name": "ipython",
    "version": 3
   },
   "file_extension": ".py",
   "mimetype": "text/x-python",
   "name": "python",
   "nbconvert_exporter": "python",
   "pygments_lexer": "ipython3",
   "version": "3.9.7"
  },
  "vscode": {
   "interpreter": {
    "hash": "c31f9a8c3aa1c3c728ca9635375839dde89f8ec10169db463330867a67196863"
   }
  }
 },
 "nbformat": 4,
 "nbformat_minor": 1
}

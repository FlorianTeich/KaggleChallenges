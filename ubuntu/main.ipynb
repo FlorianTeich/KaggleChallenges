{
 "cells": [
  {
   "cell_type": "code",
   "execution_count": 2,
   "metadata": {},
   "outputs": [],
   "source": [
    "import requests\n",
    "\n",
    "requests.post(\n",
    "        \"http://connect:8083/connectors\",\n",
    "        headers={\n",
    "            \"Content-Type\": \"application/json\"\n",
    "        },\n",
    "        json={\n",
    "          \"name\": \"source_pg_car_connector\",\n",
    "          \"config\": {\n",
    "              \"connector.class\":\"io.debezium.connector.postgresql.PostgresConnector\",\n",
    "              \"plugin.name\": \"pgoutput\",\n",
    "\n",
    "              \"database.hostname\": \"postgres\",\n",
    "              \"database.port\": \"5432\",\n",
    "              \"database.user\": \"postgres\",\n",
    "              \"database.password\": \"postgres\",\n",
    "              \"database.dbname\": \"database\",\n",
    "\n",
    "              \"database.server.name\": \"car_database\",\n",
    "              \"table.include.list\": \"public.car_data\",\n",
    "              \"topic.prefix\": \"pref\",\n",
    "\n",
    "              \"transforms\": \"unwrap\",\n",
    "              \"transforms.unwrap.type\": \"io.debezium.transforms.ExtractNewRecordState\",\n",
    "            }\n",
    "          }\n",
    ")"
   ]
  },
  {
   "cell_type": "code",
   "execution_count": null,
   "metadata": {},
   "outputs": [],
   "source": [
    "!kafkacat -L -b kafka:9092"
   ]
  },
  {
   "cell_type": "code",
   "execution_count": null,
   "metadata": {},
   "outputs": [],
   "source": [
    "from kafka import KafkaConsumer\n",
    "\n",
    "consumer = KafkaConsumer('pref.public.car_data',\n",
    "    bootstrap_servers=[\"kafka:9092\"],\n",
    "    group_id=None,\n",
    "    auto_offset_reset='earliest')\n",
    "\n",
    "for msg in consumer:\n",
    "    print (msg)"
   ]
  }
 ],
 "metadata": {
  "kernelspec": {
   "display_name": "fokusphase-kafka-XnJ5eU9r",
   "language": "python",
   "name": "python3"
  },
  "language_info": {
   "codemirror_mode": {
    "name": "ipython",
    "version": 3
   },
   "file_extension": ".py",
   "mimetype": "text/x-python",
   "name": "python",
   "nbconvert_exporter": "python",
   "pygments_lexer": "ipython3",
   "version": "3.10.8"
  },
  "orig_nbformat": 4
 },
 "nbformat": 4,
 "nbformat_minor": 2
}

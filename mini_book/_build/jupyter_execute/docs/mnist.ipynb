{
 "cells": [
  {
   "cell_type": "markdown",
   "id": "747c2c75",
   "metadata": {},
   "source": [
    "(mnist)=\n",
    "\n",
    "# MNIST Challenge\n",
    "\n",
    "## Overview\n",
    "The MNIST Challenge is quite popular as it is relatively small in size, high accuracy is easily reachable for newcomers and its (debatably) a Computer Vision dataset.\n",
    "We have a train split of handwritten digits, as grayscale images that are all cropped to 28x28 pixels, fully annotated with their correct object class: 0-9.\n",
    "Based on the training data, a model has to be created that correctly predicts the class of novel samples.\n",
    "As mentioned its debated whether this dataset is indeed Computer Vision as approaches that do not make use of 2d image features will still provide high classification accuracies.\n",
    "My first approach is a k-Nearest Neighbour classifier as these are easy to debug, i.e. its very easy to understand on what basis a classification decision was made.\n",
    "This stands in stark contrast to the CNN approach, which is still considered a blackbox method.\n",
    "More and more works emerge trying to add (human-understandable) explainablilty to CNNs but these are omitted here.\n",
    "\n",
    "```{figure} /static/mnist.png\n",
    "```"
   ]
  },
  {
   "cell_type": "code",
   "execution_count": null,
   "id": "5ec1add4",
   "metadata": {},
   "outputs": [],
   "source": [
    "%matplotlib inline\n",
    "import os\n",
    "import numpy as np\n",
    "import torch\n",
    "import sklearn.metrics\n",
    "from sklearn.neighbors import KNeighborsClassifier\n",
    "import torch.nn as nn\n",
    "import torch.nn.functional as F\n",
    "import torch.utils.data\n",
    "from torch.utils.data import TensorDataset, DataLoader\n",
    "import kcu as utils\n",
    "\n",
    "\n",
    "cwdir = os.getcwd()\n",
    "trainfile = cwdir + \"/../../data/MNIST/train.csv\"\n",
    "# train_data = np.loadtxt(trainfile, skiprows=1, delimiter=\",\")\n",
    "if not(os.path.exists( cwdir + \"/../../data/MNIST/train.bin.npy\")):\n",
    "    train_data = np.loadtxt(trainfile, skiprows=1, delimiter=\",\").astype(np.int16)\n",
    "    np.save(cwdir + \"/../../data/MNIST/train.bin\", train_data)\n",
    "else:\n",
    "    train_data = np.load(cwdir + \"/../../data/MNIST/train.bin.npy\")\n",
    "\n",
    "\n",
    "train_Y = train_data[:, 0]\n",
    "train_X = train_data[:, 1:]\n",
    "\n",
    "# Split train set into train and validation\n",
    "train_inds, val_inds = sklearn.model_selection.train_test_split(\n",
    "    np.arange(len(train_Y)), test_size=0.2\n",
    ")\n",
    "train_X, val_X = train_X[train_inds], train_X[val_inds]\n",
    "train_Y, val_Y = train_Y[train_inds], train_Y[val_inds]"
   ]
  },
  {
   "cell_type": "markdown",
   "id": "f30ce458",
   "metadata": {},
   "source": [
    "## kNN\n",
    "\n",
    "(ourfirstprog)=\n",
    "\n",
    "Here are a few lines of code that perform the task we set"
   ]
  },
  {
   "cell_type": "code",
   "execution_count": null,
   "id": "a7442ffb",
   "metadata": {},
   "outputs": [],
   "source": [
    "\n",
    "# Lets start with k-Nearest Neighbour:\n",
    "clf = KNeighborsClassifier(5)\n",
    "clf.fit(train_X, train_Y)\n",
    "pred = clf.predict(val_X)\n",
    "print(\"kNN Acc:\", sklearn.metrics.accuracy_score(val_Y, pred))\n",
    "\n",
    "# Lets try Pytorch\n",
    "train_dataset = utils.dataset.MNISTDataset(train_X, train_Y)\n",
    "val_dataset = utils.dataset.MNISTDataset(val_X, val_Y)\n",
    "train_loader = DataLoader(train_dataset, batch_size=128, shuffle=True)\n",
    "val_loader = DataLoader(val_dataset, batch_size=8, shuffle=False)\n",
    "\n",
    "device = torch.device(\"cuda\")\n",
    "cnn = utils.models.MNIST_CNN_01().to(device)\n",
    "optimizer = torch.optim.Adam(cnn.parameters(), lr=0.001)\n",
    "\n",
    "# Now train:\n",
    "utils.boilerplates.train_classifier(\n",
    "    cnn, optimizer, train_loader, device, 3, nn.CrossEntropyLoss(), val_loader, show_plot=True\n",
    ")\n"
   ]
  }
 ],
 "metadata": {
  "jupytext": {
   "text_representation": {
    "extension": ".md",
    "format_name": "myst"
   }
  },
  "kernelspec": {
   "display_name": "Python 3",
   "language": "python",
   "name": "python3"
  },
  "language_info": {
   "codemirror_mode": {
    "name": "ipython",
    "version": 3
   },
   "file_extension": ".py",
   "mimetype": "text/x-python",
   "name": "python",
   "nbconvert_exporter": "python",
   "pygments_lexer": "ipython3",
   "version": "3.6.13"
  },
  "source_map": [
   10,
   28,
   61,
   69
  ]
 },
 "nbformat": 4,
 "nbformat_minor": 5
}

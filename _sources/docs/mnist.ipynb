{
 "cells": [
  {
   "cell_type": "markdown",
   "id": "2e2d6b5f",
   "metadata": {},
   "source": [
    "(mnist)=\n",
    "\n",
    "# MNIST Challenge\n",
    "\n",
    "## Overview\n",
    "\n",
    "## The Task\n",
    "\n",
    "```{figure} /static/mnist.png\n",
    "```"
   ]
  },
  {
   "cell_type": "code",
   "execution_count": 1,
   "id": "9485e7f1",
   "metadata": {},
   "outputs": [],
   "source": [
    "%matplotlib inline"
   ]
  },
  {
   "cell_type": "markdown",
   "id": "9583678b",
   "metadata": {},
   "source": [
    "## Version 1\n",
    "\n",
    "(ourfirstprog)=\n",
    "\n",
    "Here are a few lines of code that perform the task we set"
   ]
  },
  {
   "cell_type": "code",
   "execution_count": 2,
   "id": "48b80b5a",
   "metadata": {},
   "outputs": [
    {
     "name": "stdout",
     "output_type": "stream",
     "text": [
      "kNN Acc: 0.9671428571428572\n"
     ]
    },
    {
     "name": "stdout",
     "output_type": "stream",
     "text": [
      "Test Error: \n",
      " Accuracy: 97.5%, Avg loss: 0.010561 \n",
      "\n"
     ]
    },
    {
     "data": {
      "image/png": "[encoded data removed]",
      "text/plain": [
       "<Figure size 432x288 with 1 Axes>"
      ]
     },
     "metadata": {
      "filenames": {
       "image/png": "/home/florian/src/KaggleChallenges/mini_book/_build/jupyter_execute/docs/mnist_3_2.png"
      },
      "needs_background": "light"
     },
     "output_type": "display_data"
    },
    {
     "name": "stdout",
     "output_type": "stream",
     "text": [
      "Test Error: \n",
      " Accuracy: 97.8%, Avg loss: 0.008840 \n",
      "\n"
     ]
    },
    {
     "data": {
      "image/png": "[encoded data removed]",
      "text/plain": [
       "<Figure size 432x288 with 1 Axes>"
      ]
     },
     "metadata": {
      "filenames": {
       "image/png": "/home/florian/src/KaggleChallenges/mini_book/_build/jupyter_execute/docs/mnist_3_4.png"
      },
      "needs_background": "light"
     },
     "output_type": "display_data"
    },
    {
     "name": "stdout",
     "output_type": "stream",
     "text": [
      "Test Error: \n",
      " Accuracy: 98.4%, Avg loss: 0.007387 \n",
      "\n"
     ]
    },
    {
     "data": {
      "image/png": "[encoded data removed]",
      "text/plain": [
       "<Figure size 432x288 with 1 Axes>"
      ]
     },
     "metadata": {
      "filenames": {
       "image/png": "/home/florian/src/KaggleChallenges/mini_book/_build/jupyter_execute/docs/mnist_3_6.png"
      },
      "needs_background": "light"
     },
     "output_type": "display_data"
    }
   ],
   "source": [
    "import os\n",
    "import numpy as np\n",
    "import torch\n",
    "import sklearn.metrics\n",
    "from sklearn.neighbors import KNeighborsClassifier\n",
    "import torch.nn as nn\n",
    "import torch.nn.functional as F\n",
    "import torch.utils.data\n",
    "from torch.utils.data import TensorDataset, DataLoader\n",
    "import kcu as utils\n",
    "\n",
    "\n",
    "cwdir = os.getcwd()\n",
    "trainfile = cwdir + \"/../../data/MNIST/train.csv\"\n",
    "# train_data = np.loadtxt(trainfile, skiprows=1, delimiter=\",\")\n",
    "if not(os.path.exists( cwdir + \"/../../data/MNIST/train.bin.npy\")):\n",
    "    train_data = np.loadtxt(trainfile, skiprows=1, delimiter=\",\").astype(np.int16)\n",
    "    np.save(cwdir + \"/../../data/MNIST/train.bin\", train_data)\n",
    "else:\n",
    "    train_data = np.load(cwdir + \"/../../data/MNIST/train.bin.npy\")\n",
    "\n",
    "\n",
    "train_Y = train_data[:, 0]\n",
    "train_X = train_data[:, 1:]\n",
    "\n",
    "# Split train set into train and validation\n",
    "train_inds, val_inds = sklearn.model_selection.train_test_split(\n",
    "    np.arange(len(train_Y)), test_size=0.2\n",
    ")\n",
    "train_X, val_X = train_X[train_inds], train_X[val_inds]\n",
    "train_Y, val_Y = train_Y[train_inds], train_Y[val_inds]\n",
    "\n",
    "# Lets start with k-Nearest Neighbour:\n",
    "clf = KNeighborsClassifier(5)\n",
    "clf.fit(train_X, train_Y)\n",
    "pred = clf.predict(val_X)\n",
    "print(\"kNN Acc:\", sklearn.metrics.accuracy_score(val_Y, pred))\n",
    "\n",
    "# Lets try Pytorch\n",
    "train_dataset = utils.dataset.MNISTDataset(train_X, train_Y)\n",
    "val_dataset = utils.dataset.MNISTDataset(val_X, val_Y)\n",
    "train_loader = DataLoader(train_dataset, batch_size=128, shuffle=True)\n",
    "val_loader = DataLoader(val_dataset, batch_size=8, shuffle=False)\n",
    "\n",
    "device = torch.device(\"cuda\")\n",
    "cnn = utils.models.MNIST_CNN_01().to(device)\n",
    "optimizer = torch.optim.Adam(cnn.parameters(), lr=0.001)\n",
    "\n",
    "# Now train:\n",
    "utils.boilerplates.train_classifier(\n",
    "    cnn, optimizer, train_loader, device, 3, nn.CrossEntropyLoss(), val_loader, show_plot=True\n",
    ")\n"
   ]
  }
 ],
 "metadata": {
  "jupytext": {
   "text_representation": {
    "extension": ".md",
    "format_name": "myst"
   }
  },
  "kernelspec": {
   "display_name": "Python 3",
   "language": "python",
   "name": "python3"
  },
  "language_info": {
   "codemirror_mode": {
    "name": "ipython",
    "version": 3
   },
   "file_extension": ".py",
   "mimetype": "text/x-python",
   "name": "python",
   "nbconvert_exporter": "python",
   "pygments_lexer": "ipython3",
   "version": "3.6.13"
  },
  "source_map": [
   10,
   23,
   25,
   33
  ]
 },
 "nbformat": 4,
 "nbformat_minor": 5
}